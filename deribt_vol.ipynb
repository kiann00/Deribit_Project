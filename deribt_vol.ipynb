# this little snippet is to try to extract and download Implied Volatility from Deribit for historical analysis in the future
# though open-source, it seems people do not save, and share the data for use in general

